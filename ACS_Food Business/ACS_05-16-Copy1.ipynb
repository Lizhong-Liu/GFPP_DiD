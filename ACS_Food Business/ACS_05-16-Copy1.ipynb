{
 "cells": [
  {
   "cell_type": "code",
   "execution_count": null,
   "metadata": {
    "collapsed": true
   },
   "outputs": [],
   "source": []
  },
  {
   "cell_type": "code",
   "execution_count": 20,
   "metadata": {},
   "outputs": [],
   "source": [
    "import glob\n",
    "import pandas as pd\n",
    "path = r'/Users/helenawang/Desktop/IPPP2017/final project/ACS_05-16'\n",
    "filenames = glob.glob(path +\"/*.csv\")\n",
    "\n",
    "ACS_05 = pd.read_csv(filenames[0],\n",
    "                     index_col = 1,\n",
    "                     usecols = [0,2,7,15,17,51],\n",
    "                     names = ['ID','County Name','Agriculture','Wholesale','Retail','Food Services'],\n",
    "                     skiprows=2)"
   ]
  },
  {
   "cell_type": "code",
   "execution_count": 21,
   "metadata": {
    "collapsed": true
   },
   "outputs": [],
   "source": [
    "ACS_06 = pd.read_csv(filenames[1],\n",
    "                     index_col = 1,\n",
    "                     usecols = [0,2,7,15,17,51],\n",
    "                     names = ['ID','County Name','Agriculture','Wholesale','Retail','Food Services'],\n",
    "                     skiprows=2)"
   ]
  },
  {
   "cell_type": "code",
   "execution_count": 22,
   "metadata": {
    "collapsed": true
   },
   "outputs": [],
   "source": [
    "ACS_07 = pd.read_csv(filenames[2],\n",
    "                     index_col = 1,\n",
    "                     usecols = [0,2,7,15,17,51],\n",
    "                     names = ['ID','County Name','Agriculture','Wholesale','Retail','Food Services'],\n",
    "                     skiprows=2)"
   ]
  },
  {
   "cell_type": "code",
   "execution_count": 23,
   "metadata": {
    "collapsed": true
   },
   "outputs": [],
   "source": [
    "ACS_08 = pd.read_csv(filenames[3],\n",
    "                     index_col = 1,\n",
    "                     usecols = [0,2,7,15,17,51],\n",
    "                     names = ['ID','County Name','Agriculture','Wholesale','Retail','Food Services'],\n",
    "                     skiprows=2)"
   ]
  },
  {
   "cell_type": "code",
   "execution_count": 24,
   "metadata": {
    "collapsed": true
   },
   "outputs": [],
   "source": [
    "ACS_09 = pd.read_csv(filenames[4],\n",
    "                     index_col = 1,\n",
    "                     usecols = [0,2,7,15,17,51],\n",
    "                     names = ['ID','County Name','Agriculture','Wholesale','Retail','Food Services'],\n",
    "                     skiprows=2)"
   ]
  },
  {
   "cell_type": "code",
   "execution_count": 25,
   "metadata": {
    "collapsed": true
   },
   "outputs": [],
   "source": [
    "ACS_10 = pd.read_csv(filenames[5],\n",
    "                     index_col = 1,\n",
    "                     usecols = [0,2,7,15,17,51],\n",
    "                     names = ['ID','County Name','Agriculture','Wholesale','Retail','Food Services'],\n",
    "                     skiprows=2)"
   ]
  },
  {
   "cell_type": "code",
   "execution_count": 26,
   "metadata": {
    "collapsed": true
   },
   "outputs": [],
   "source": [
    "ACS_11 = pd.read_csv(filenames[6],\n",
    "                     index_col = 1,\n",
    "                     usecols = [0,2,7,15,17,51],\n",
    "                     names = ['ID','County Name','Agriculture','Wholesale','Retail','Food Services'],\n",
    "                     skiprows=2)"
   ]
  },
  {
   "cell_type": "code",
   "execution_count": 27,
   "metadata": {
    "collapsed": true
   },
   "outputs": [],
   "source": [
    "ACS_12 = pd.read_csv(filenames[7],\n",
    "                     index_col = 1,\n",
    "                     usecols = [0,2,7,15,17,51],\n",
    "                     names = ['ID','County Name','Agriculture','Wholesale','Retail','Food Services'],\n",
    "                     skiprows=2)"
   ]
  },
  {
   "cell_type": "code",
   "execution_count": 28,
   "metadata": {
    "collapsed": true
   },
   "outputs": [],
   "source": [
    "ACS_13 = pd.read_csv(filenames[8],\n",
    "                     index_col = 1,\n",
    "                     usecols = [0,2,7,15,17,51],\n",
    "                     names = ['ID','County Name','Agriculture','Wholesale','Retail','Food Services'],\n",
    "                     skiprows=2)"
   ]
  },
  {
   "cell_type": "code",
   "execution_count": 29,
   "metadata": {
    "collapsed": true
   },
   "outputs": [],
   "source": [
    "ACS_14 = pd.read_csv(filenames[9],\n",
    "                     index_col = 1,\n",
    "                     usecols = [0,2,7,15,17,51],\n",
    "                     names = ['ID','County Name','Agriculture','Wholesale','Retail','Food Services'],\n",
    "                     skiprows=2)"
   ]
  },
  {
   "cell_type": "code",
   "execution_count": 30,
   "metadata": {
    "collapsed": true
   },
   "outputs": [],
   "source": [
    "ACS_15 = pd.read_csv(filenames[10],\n",
    "                     index_col = 1,\n",
    "                     usecols = [0,2,7,15,17,51],\n",
    "                     names = ['ID','County Name','Agriculture','Wholesale','Retail','Food Services'],\n",
    "                     skiprows=2)"
   ]
  },
  {
   "cell_type": "code",
   "execution_count": 31,
   "metadata": {
    "collapsed": true
   },
   "outputs": [],
   "source": [
    "ACS_16 = pd.read_csv(filenames[11],\n",
    "                     index_col = 1,\n",
    "                     usecols = [0,2,7,15,17,51],\n",
    "                     names = ['ID','County Name','Agriculture','Wholesale','Retail','Food Services'],\n",
    "                     skiprows=2)"
   ]
  },
  {
   "cell_type": "code",
   "execution_count": 47,
   "metadata": {},
   "outputs": [],
   "source": [
    "Agriculture = pd.concat([ACS_05['Agriculture'],\n",
    "                         ACS_06['Agriculture'],\n",
    "                         ACS_07['Agriculture'],\n",
    "                         ACS_08['Agriculture'],\n",
    "                         ACS_09['Agriculture'],\n",
    "                         ACS_10['Agriculture'],\n",
    "                         ACS_11['Agriculture'],\n",
    "                         ACS_12['Agriculture'],\n",
    "                         ACS_13['Agriculture'],\n",
    "                         ACS_14['Agriculture'],\n",
    "                         ACS_15['Agriculture'],\n",
    "                         ACS_16['Agriculture']], \n",
    "                        keys=['ACS_05', 'ACS_06', 'ACS_07', 'ACS_08', 'ACS_09', 'ACS_10', 'ACS_12', 'ACS_13', 'ACS_14', 'ACS_15', 'ACS_16'],\n",
    "                        axis=1)\n",
    "Agriculture.to_csv('ACS_Agriculture.csv', sep=',')"
   ]
  },
  {
   "cell_type": "code",
   "execution_count": 46,
   "metadata": {},
   "outputs": [],
   "source": [
    "Wholesale = pd.concat([ACS_05['Wholesale'],\n",
    "                         ACS_06['Wholesale'],\n",
    "                         ACS_07['Wholesale'],\n",
    "                         ACS_08['Wholesale'],\n",
    "                         ACS_09['Wholesale'],\n",
    "                         ACS_10['Wholesale'],\n",
    "                         ACS_11['Wholesale'],\n",
    "                         ACS_12['Wholesale'],\n",
    "                         ACS_13['Wholesale'],\n",
    "                         ACS_14['Wholesale'],\n",
    "                         ACS_15['Wholesale'],\n",
    "                         ACS_16['Wholesale']], \n",
    "                      keys=['ACS_05', 'ACS_06', 'ACS_07', 'ACS_08', 'ACS_09', 'ACS_10', 'ACS_12', 'ACS_13', 'ACS_14', 'ACS_15', 'ACS_16'],\n",
    "                        axis=1)\n",
    "Wholesale.to_csv('ACS_Wholesale.csv', sep=',')"
   ]
  },
  {
   "cell_type": "code",
   "execution_count": 45,
   "metadata": {},
   "outputs": [],
   "source": [
    "Retail = pd.concat([ACS_05['Retail'],\n",
    "                         ACS_06['Retail'],\n",
    "                         ACS_07['Retail'],\n",
    "                         ACS_08['Retail'],\n",
    "                         ACS_09['Retail'],\n",
    "                         ACS_10['Retail'],\n",
    "                         ACS_11['Retail'],\n",
    "                         ACS_12['Retail'],\n",
    "                         ACS_13['Retail'],\n",
    "                         ACS_14['Retail'],\n",
    "                         ACS_15['Retail'],\n",
    "                         ACS_16['Retail']], \n",
    "                      keys=['ACS_05', 'ACS_06', 'ACS_07', 'ACS_08', 'ACS_09', 'ACS_10', 'ACS_12', 'ACS_13', 'ACS_14', 'ACS_15', 'ACS_16'],\n",
    "                        axis=1)\n",
    "Retail.to_csv('ACS_Retail.csv', sep=',')"
   ]
  },
  {
   "cell_type": "code",
   "execution_count": 44,
   "metadata": {},
   "outputs": [],
   "source": [
    "FoodServices = pd.concat([ACS_05['Food Services'],\n",
    "                         ACS_06['Food Services'],\n",
    "                         ACS_07['Food Services'],\n",
    "                         ACS_08['Food Services'],\n",
    "                         ACS_09['Food Services'],\n",
    "                         ACS_10['Food Services'],\n",
    "                         ACS_11['Food Services'],\n",
    "                         ACS_12['Food Services'],\n",
    "                         ACS_13['Food Services'],\n",
    "                         ACS_14['Food Services'],\n",
    "                         ACS_15['Food Services'],\n",
    "                         ACS_16['Food Services']], \n",
    "                      keys=['ACS_05', 'ACS_06', 'ACS_07', 'ACS_08', 'ACS_09', 'ACS_10', 'ACS_12', 'ACS_13', 'ACS_14', 'ACS_15', 'ACS_16'],\n",
    "                        axis=1)\n",
    "FoodServices.to_csv('ACS_FoodServices.csv', sep=',')"
   ]
  },
  {
   "cell_type": "code",
   "execution_count": null,
   "metadata": {
    "collapsed": true
   },
   "outputs": [],
   "source": []
  }
 ],
 "metadata": {
  "kernelspec": {
   "display_name": "Python 3",
   "language": "python",
   "name": "python3"
  },
  "language_info": {
   "codemirror_mode": {
    "name": "ipython",
    "version": 3
   },
   "file_extension": ".py",
   "mimetype": "text/x-python",
   "name": "python",
   "nbconvert_exporter": "python",
   "pygments_lexer": "ipython3",
   "version": "3.6.2"
  }
 },
 "nbformat": 4,
 "nbformat_minor": 2
}
